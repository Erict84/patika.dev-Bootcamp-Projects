{
 "cells": [
  {
   "cell_type": "markdown",
   "id": "1d702f85",
   "metadata": {},
   "source": [
    "1- Bir listeyi düzleştiren (flatten) fonksiyon yazın. Elemanları birden çok katmanlı listelerden ([[3],2] gibi) oluşabileceği gibi, non-scalar verilerden de oluşabilir. Örnek olarak:\n",
    "\n",
    "input: [[1,'a',['cat'],2],[[[3]],'dog'],4,5]\n",
    "\n",
    "output: [1,'a','cat',2,3,'dog',4,5]\n",
    "\n",
    "2- Verilen listenin içindeki elemanları tersine döndüren bir fonksiyon yazın. Eğer listenin içindeki elemanlar da liste içeriyorsa onların elemanlarını da tersine döndürün. Örnek olarak:\n",
    "\n",
    "input: [[1, 2], [3, 4], [5, 6, 7]]\n",
    "\n",
    "output: [[[7, 6, 5], [4, 3], [2, 1]]"
   ]
  },
  {
   "cell_type": "markdown",
   "id": "beaa3cf7",
   "metadata": {},
   "source": [
    "# 1. Flatten Function"
   ]
  },
  {
   "cell_type": "code",
   "execution_count": 1,
   "id": "082b0941",
   "metadata": {},
   "outputs": [],
   "source": [
    "def flatten(l):\n",
    "    output = []   \n",
    "    for i in l:\n",
    "        if type(i) != list:\n",
    "            output.append(i)\n",
    "        else:\n",
    "            output.extend(flatten(i))\n",
    "    return output"
   ]
  },
  {
   "cell_type": "code",
   "execution_count": 2,
   "id": "fd772049",
   "metadata": {},
   "outputs": [],
   "source": [
    "input = [[1,'a',['cat'],2],[[[3]],'dog'],4,5]"
   ]
  },
  {
   "cell_type": "code",
   "execution_count": 3,
   "id": "0066f2a3",
   "metadata": {},
   "outputs": [
    {
     "data": {
      "text/plain": [
       "[1, 'a', 'cat', 2, 3, 'dog', 4, 5]"
      ]
     },
     "execution_count": 3,
     "metadata": {},
     "output_type": "execute_result"
    }
   ],
   "source": [
    "flatten(input)"
   ]
  },
  {
   "cell_type": "code",
   "execution_count": 4,
   "id": "4c760d6b",
   "metadata": {},
   "outputs": [
    {
     "data": {
      "text/plain": [
       "[1, 2, 3, 1, 2, 3, 4, 2, 1, 3, 1, 2]"
      ]
     },
     "execution_count": 4,
     "metadata": {},
     "output_type": "execute_result"
    }
   ],
   "source": [
    "flatten([1,2,3,[1,2,[3,4,[2,1,[3]]],[1,2]]])"
   ]
  },
  {
   "cell_type": "markdown",
   "id": "d9b47b28",
   "metadata": {},
   "source": [
    "# 2. Reverse Function"
   ]
  },
  {
   "cell_type": "code",
   "execution_count": 5,
   "id": "3117f29c",
   "metadata": {},
   "outputs": [],
   "source": [
    "def reverse(l):\n",
    "    output = []\n",
    "    for i in range(len(l),0,-1):\n",
    "        if type(l[i-1]) != list:\n",
    "            output.append(l[i-1])\n",
    "        else:\n",
    "            output.append(reverse(l[i-1]))\n",
    "    return output"
   ]
  },
  {
   "cell_type": "code",
   "execution_count": 6,
   "id": "6a28c9c0",
   "metadata": {},
   "outputs": [],
   "source": [
    "input = [[1, 2], [3, 4], [5, 6, 7]]"
   ]
  },
  {
   "cell_type": "code",
   "execution_count": 7,
   "id": "6bdf9e38",
   "metadata": {},
   "outputs": [
    {
     "data": {
      "text/plain": [
       "[[7, 6, 5], [4, 3], [2, 1]]"
      ]
     },
     "execution_count": 7,
     "metadata": {},
     "output_type": "execute_result"
    }
   ],
   "source": [
    "reverse(input)"
   ]
  },
  {
   "cell_type": "code",
   "execution_count": null,
   "id": "0afb11d9",
   "metadata": {},
   "outputs": [],
   "source": []
  }
 ],
 "metadata": {
  "kernelspec": {
   "display_name": "Python 3 (ipykernel)",
   "language": "python",
   "name": "python3"
  },
  "language_info": {
   "codemirror_mode": {
    "name": "ipython",
    "version": 3
   },
   "file_extension": ".py",
   "mimetype": "text/x-python",
   "name": "python",
   "nbconvert_exporter": "python",
   "pygments_lexer": "ipython3",
   "version": "3.11.4"
  }
 },
 "nbformat": 4,
 "nbformat_minor": 5
}
